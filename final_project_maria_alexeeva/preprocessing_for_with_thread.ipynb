{
 "cells": [
  {
   "cell_type": "code",
   "execution_count": 8,
   "metadata": {},
   "outputs": [],
   "source": [
    "import numpy as np\n",
    "from tqdm import tqdm\n",
    "import pickle\n",
    "np.set_printoptions(threshold=np.nan)\n",
    "import numpy as np\n",
    "import os\n",
    "import sys\n",
    "cwd = os.getcwd()"
   ]
  },
  {
   "cell_type": "code",
   "execution_count": 9,
   "metadata": {},
   "outputs": [],
   "source": [
    "#Loading the original datasets\n",
    "x_train_full = np.load(os.path.join(cwd,'train/train_array.npy'))\n",
    "y_train_full = np.load(os.path.join(cwd,'train/fold_stance_labels.npy'))\n",
    "x_test_full = np.load(os.path.join(cwd,'dev/train_array.npy'))\n",
    "y_test_full = np.load(os.path.join(cwd,'dev/fold_stance_labels.npy'))\n",
    "ids_test_full = np.load(os.path.join(cwd,'dev/tweet_ids.npy'))\n",
    "ids_train_full = np.load(os.path.join(cwd,'train/tweet_ids.npy'))"
   ]
  },
  {
   "cell_type": "code",
   "execution_count": 10,
   "metadata": {},
   "outputs": [],
   "source": [
    "#preprocessing dev preprocessed data\n",
    "def create_data_with_preceding_thread(x_data, y_data, ids):\n",
    "    \"\"\"\n",
    "    the function takes as input preprocessed data obtained through running the preprocessing code \n",
    "    from a baseline suggested here: https://github.com/kochkinaelena/RumourEval2019 on the code shared \n",
    "    on the competition codalab webpage and returns the dataset\n",
    "    where each comment is represented as an average of vectors of all preceding comments + self vector\n",
    "    x: original preprocessed data, vectors\n",
    "    y: original preprocessed gold labels, format: matrix where each row is a list of len(max depth of thread) with each item a prediction of the respective comment\n",
    "    ids: original ids (tree structure)\n",
    "    \"\"\"\n",
    "    \n",
    "    id_list = [] #list of comment ids \n",
    "    print(id_list)\n",
    "    vector_of_preceding_tree_list = [] #list of vectors of each comment, with the vector being the average of all the previous comments\n",
    "    y_per_statement = [] #correct label for each comment \n",
    "    for tree in tqdm(ids.tolist()):\n",
    "        #print(type(tree))\n",
    "        idx_of_tree = ids.tolist().index(tree)\n",
    "        #print(tree, idx_of_tree)\n",
    "        for comment_id in tree:\n",
    "            idx_of_comment_in_tree = tree.index(comment_id)\n",
    "            if comment_id not in id_list:\n",
    "                id_list.append(comment_id)\n",
    "                comment_vector = np.zeros(len(x_data[idx_of_tree][idx_of_comment_in_tree]))\n",
    "                for i in range(idx_of_comment_in_tree+1):\n",
    "                    vector_to_add = x_data[idx_of_tree][i]\n",
    "                    comment_vector = comment_vector + x_data[idx_of_tree][i]\n",
    "                comment_vector = np.divide(comment_vector, idx_of_comment_in_tree+1)\n",
    "                vector_of_preceding_tree_list.append(comment_vector)\n",
    "                y_per_statement.append(y_data[idx_of_tree][idx_of_comment_in_tree])\n",
    "    return [vector_of_preceding_tree_list, y_per_statement, id_list]"
   ]
  },
  {
   "cell_type": "code",
   "execution_count": 11,
   "metadata": {},
   "outputs": [
    {
     "name": "stderr",
     "output_type": "stream",
     "text": [
      "100%|██████████| 966/966 [00:00<00:00, 14249.53it/s]"
     ]
    },
    {
     "name": "stdout",
     "output_type": "stream",
     "text": [
      "[]\n"
     ]
    },
    {
     "name": "stderr",
     "output_type": "stream",
     "text": [
      "\n"
     ]
    }
   ],
   "source": [
    "dev_x_preceding_thread, dev_y_preceding_thread, dev_id_preceding_thread = create_data_with_preceding_thread(x_test_full, y_test_full, ids_test_full)"
   ]
  },
  {
   "cell_type": "code",
   "execution_count": 12,
   "metadata": {},
   "outputs": [],
   "source": [
    "# np.save(\"dev_x_preceding_thread\", np.array(dev_x_preceding_thread))\n",
    "# np.save(\"dev_y_preceding_thread\", np.array(dev_y_preceding_thread))\n",
    "# np.save(\"dev_id_preceding_thread\", np.array(dev_id_preceding_thread))"
   ]
  },
  {
   "cell_type": "code",
   "execution_count": 13,
   "metadata": {},
   "outputs": [
    {
     "name": "stderr",
     "output_type": "stream",
     "text": [
      " 36%|███▋      | 1291/3560 [00:00<00:00, 12838.02it/s]"
     ]
    },
    {
     "name": "stdout",
     "output_type": "stream",
     "text": [
      "[]\n"
     ]
    },
    {
     "name": "stderr",
     "output_type": "stream",
     "text": [
      "100%|██████████| 3560/3560 [00:00<00:00, 6485.86it/s] \n"
     ]
    }
   ],
   "source": [
    "train_x_preceding_thread, train_y_preceding_thread, train_id_preceding_thread = create_data_with_preceding_thread(x_train_full, y_train_full, ids_train_full)"
   ]
  },
  {
   "cell_type": "code",
   "execution_count": 14,
   "metadata": {},
   "outputs": [],
   "source": [
    "# np.save(\"train_x_preceding_thread\", np.array(train_x_preceding_thread))\n",
    "# np.save(\"train_y_preceding_thread\", np.array(train_y_preceding_thread))\n",
    "# np.save(\"train_id_preceding_thread\", np.array(train_id_preceding_thread))"
   ]
  },
  {
   "cell_type": "code",
   "execution_count": null,
   "metadata": {},
   "outputs": [],
   "source": []
  }
 ],
 "metadata": {
  "kernelspec": {
   "display_name": "Python 3",
   "language": "python",
   "name": "python3"
  },
  "language_info": {
   "codemirror_mode": {
    "name": "ipython",
    "version": 3
   },
   "file_extension": ".py",
   "mimetype": "text/x-python",
   "name": "python",
   "nbconvert_exporter": "python",
   "pygments_lexer": "ipython3",
   "version": "3.7.0"
  }
 },
 "nbformat": 4,
 "nbformat_minor": 2
}
